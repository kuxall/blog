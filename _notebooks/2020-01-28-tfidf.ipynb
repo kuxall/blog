{
  "cells": [
    {
      "cell_type": "markdown",
      "source": [
        "# Introduction\n",
        "\n",
        "> In this Blog, we are going to discuss about the TF-IDF vectorizer from the Natural Language Processing."
      ],
      "metadata": {
        "id": "u24f9weBhwvb"
      },
      "id": "u24f9weBhwvb"
    },
    {
      "cell_type": "markdown",
      "source": [
        "\n",
        "\n",
        "# What is TF-IDF?\n",
        "> **TF-IDF (term frequency-inverse document frequency)** is a statistical measure that evaluates how relevant a word is to a document in a collection of documents.\n",
        "\n",
        "> This is done by multiplying two metrics: how many times a word appears in a document, and the inverse document frequency of the word across a set of documents.\n",
        "\n",
        "> It has many uses, most importantly in automated text analysis, and is very useful for scoring words in machine learning algorithms for Natural Language Processing (NLP).\n",
        "\n",
        "> TF-IDF was invented for document search and information retrieval. It works by increasing proportionally to the number of times a word appears in a document, but is offset by the number of documents that contain the word. So, words that are common in every document, such as this, what, and if, rank low even though they may appear many times, since they don’t mean much to that document in particular.\n"
      ],
      "metadata": {
        "id": "bVZvRmAvZwX4"
      },
      "id": "bVZvRmAvZwX4"
    },
    {
      "cell_type": "markdown",
      "source": [
        "# How is TF-IDF calculated?\n",
        "> The **Term Frequency** of a word in a document. There are several ways of calculating this frequency, with the simplest being a raw count of instances a word appears in a document. Then, there are ways to adjust the frequency, by length of a document, or by the raw frequency of the most frequent word in a document.\n",
        "\n",
        "> The **Inverse Document Frequency** of the word across a set of documents. This means, how common or rare a word is in the entire document set. The closer it is to 0, the more common a word is. This metric can be calculated by taking the total number of documents, dividing it by the number of documents that contain a word, and calculating the logarithm.\n",
        "\n",
        "> So, if the word is very common and appears in many documents, this number will approach 0. Otherwise, it will approach 1.\n",
        "\n",
        "> Multiplying these two numbers results in the **TF-IDF** score of a word in a document. The higher the score, the more relevant that word is in that particular document."
      ],
      "metadata": {
        "id": "y0mJ9zFealLx"
      },
      "id": "y0mJ9zFealLx"
    },
    {
      "cell_type": "markdown",
      "source": [
        "Now, Let's go to the practical implementation of TF-IDF\n",
        "\n",
        "- toc: true\n",
        "- badges: true\n",
        "- comments: true\n",
        "- categories: [ nlp, tfidf, scikit-learn ]"
      ],
      "metadata": {
        "id": "G4E2Dt71byIf"
      },
      "id": "G4E2Dt71byIf"
    },
    {
      "cell_type": "markdown",
      "source": [
        "# Let's See Examples"
      ],
      "metadata": {
        "id": "CzfjqvgAh_4o"
      },
      "id": "CzfjqvgAh_4o"
    },
    {
      "cell_type": "markdown",
      "source": [
        "## Importing Modules\n",
        "> Here we import all the necessary modules that are required later."
      ],
      "metadata": {
        "id": "YkZa_d06V8YU"
      },
      "id": "YkZa_d06V8YU"
    },
    {
      "cell_type": "code",
      "execution_count": 95,
      "id": "bea6092e",
      "metadata": {
        "id": "bea6092e"
      },
      "outputs": [],
      "source": [
        "import numpy as np\n",
        "import pandas as pd\n",
        "import matplotlib.pyplot as plt\n",
        "import seaborn as sns \n",
        "import matplotlib.pyplot as plt\n",
        "import seaborn as sns\n",
        "\n",
        "from sklearn.feature_extraction.text import CountVectorizer\n",
        "from sklearn.multiclass import OneVsRestClassifier\n",
        "from sklearn.preprocessing import OneHotEncoder\n",
        "from sklearn.pipeline import Pipeline\n",
        "\n",
        "from sklearn.feature_extraction.text import TfidfVectorizer\n",
        "from sklearn.feature_selection import chi2\n",
        "from sklearn.model_selection import train_test_split\n",
        "from sklearn.feature_extraction.text import TfidfTransformer\n",
        "\n",
        "from sklearn.svm import LinearSVC\n",
        "from sklearn.model_selection import cross_val_score\n",
        "from sklearn.metrics import confusion_matrix\n",
        "from sklearn.metrics import classification_report\n"
      ]
    },
    {
      "cell_type": "markdown",
      "source": [
        " Warnings\n",
        "> This will hide all the warnings in the output screen."
      ],
      "metadata": {
        "id": "T1LsdCW9WKxV"
      },
      "id": "T1LsdCW9WKxV"
    },
    {
      "cell_type": "code",
      "source": [
        "import warnings\n",
        "warnings.filterwarnings(\"ignore\", category=UserWarning)\n",
        "warnings.filterwarnings(\"ignore\", category=FutureWarning)"
      ],
      "metadata": {
        "id": "8fk0rNk6WUcm"
      },
      "id": "8fk0rNk6WUcm",
      "execution_count": 96,
      "outputs": []
    },
    {
      "cell_type": "markdown",
      "source": [
        "Generate `requirements.txt` file\n",
        "> This will generate all the requirements dependencies from the import modules."
      ],
      "metadata": {
        "id": "wF6epoOTWZVt"
      },
      "id": "wF6epoOTWZVt"
    },
    {
      "cell_type": "code",
      "source": [
        "!pipreqs ./ --ignore .venv --force"
      ],
      "metadata": {
        "colab": {
          "base_uri": "https://localhost:8080/"
        },
        "id": "zEeBi_9TXPT8",
        "outputId": "13e9809e-154b-4344-9b46-536a64e35406"
      },
      "id": "zEeBi_9TXPT8",
      "execution_count": 97,
      "outputs": [
        {
          "output_type": "stream",
          "name": "stdout",
          "text": [
            "/bin/bash: pipreqs: command not found\n"
          ]
        }
      ]
    },
    {
      "cell_type": "markdown",
      "source": [
        "## Mounting Google Drive"
      ],
      "metadata": {
        "id": "W9z0e7NoXcQ7"
      },
      "id": "W9z0e7NoXcQ7"
    },
    {
      "cell_type": "code",
      "source": [
        "from google.colab import drive\n",
        "drive.mount('/content/drive')"
      ],
      "metadata": {
        "colab": {
          "base_uri": "https://localhost:8080/"
        },
        "id": "OBIRVuX9XXRM",
        "outputId": "a370725e-b0d1-47e6-d627-83cae73958ae"
      },
      "id": "OBIRVuX9XXRM",
      "execution_count": 98,
      "outputs": [
        {
          "output_type": "stream",
          "name": "stdout",
          "text": [
            "Drive already mounted at /content/drive; to attempt to forcibly remount, call drive.mount(\"/content/drive\", force_remount=True).\n"
          ]
        }
      ]
    },
    {
      "cell_type": "markdown",
      "source": [
        "## Fetching the Data"
      ],
      "metadata": {
        "id": "XKTP0hSrYRmc"
      },
      "id": "XKTP0hSrYRmc"
    },
    {
      "cell_type": "code",
      "execution_count": 99,
      "id": "b86a63cc",
      "metadata": {
        "id": "b86a63cc"
      },
      "outputs": [],
      "source": [
        "df = pd.read_excel(\"/content/drive/MyDrive/Digital Data.xlsx\")\n"
      ]
    },
    {
      "cell_type": "code",
      "execution_count": 100,
      "id": "097801cf",
      "metadata": {
        "id": "097801cf"
      },
      "outputs": [],
      "source": [
        "df[\"TitleandDesc\"] = df[\"title\"] + df[\"Job_Description\"]"
      ]
    },
    {
      "cell_type": "markdown",
      "source": [
        "## Manipulation of Data"
      ],
      "metadata": {
        "id": "_RNAKkATYVoP"
      },
      "id": "_RNAKkATYVoP"
    },
    {
      "cell_type": "code",
      "execution_count": 101,
      "id": "79ff1d2f",
      "metadata": {
        "id": "79ff1d2f"
      },
      "outputs": [],
      "source": [
        "# df"
      ]
    },
    {
      "cell_type": "code",
      "execution_count": 102,
      "id": "2cf6a9c2",
      "metadata": {
        "colab": {
          "base_uri": "https://localhost:8080/"
        },
        "id": "2cf6a9c2",
        "outputId": "a3a2f9e7-d2be-4024-c107-5a647d7f5b24"
      },
      "outputs": [
        {
          "output_type": "execute_result",
          "data": {
            "text/plain": [
              "0       Commercial Painters needed ASAP at our Dallas/...\n",
              "1       Nightclub Jobs -Model/Servers- Cash Daily,Look...\n",
              "2       Nightclub Jobs -Model Servers- Cash Daily,* Mo...\n",
              "3       PRINTING - 1st shift,CDL Class A full time loc...\n",
              "4       Admin Assistant,Necesito personal de limpieza ...\n",
              "                              ...                        \n",
              "2109    Calling all well connected engineers, develope...\n",
              "2110    Software Engineer - Remote OptionalSignup on H...\n",
              "2111    Senior Software Engineer for Part-time Technic...\n",
              "2112    Google AppSheet Developer | $47.00 - $54.00 pe...\n",
              "2113    Graphic Designer Production mgr.Sign Design is...\n",
              "Name: TitleandDesc, Length: 2114, dtype: object"
            ]
          },
          "metadata": {},
          "execution_count": 102
        }
      ],
      "source": [
        "df[\"TitleandDesc\"]"
      ]
    },
    {
      "cell_type": "markdown",
      "source": [
        "## Removing Unnecessary Data\n",
        "> Here, we remove the columns that are not required for the EDA."
      ],
      "metadata": {
        "id": "k3WV81_wYiaa"
      },
      "id": "k3WV81_wYiaa"
    },
    {
      "cell_type": "code",
      "execution_count": 103,
      "id": "1903214d",
      "metadata": {
        "id": "1903214d"
      },
      "outputs": [],
      "source": [
        "df\n",
        "df.drop(['Index', 'title','url','Posted-Date', 'Job_Description'], axis=1, inplace=True)"
      ]
    },
    {
      "cell_type": "code",
      "execution_count": 104,
      "id": "05aa1c38",
      "metadata": {
        "id": "05aa1c38"
      },
      "outputs": [],
      "source": [
        "# df"
      ]
    },
    {
      "cell_type": "code",
      "execution_count": 105,
      "id": "43fc2d5f",
      "metadata": {
        "id": "43fc2d5f"
      },
      "outputs": [],
      "source": [
        "first_column = df.pop('TitleandDesc')\n",
        "df.insert(0, 'TitleandDesc', first_column)"
      ]
    },
    {
      "cell_type": "code",
      "execution_count": 106,
      "id": "2114084f",
      "metadata": {
        "colab": {
          "base_uri": "https://localhost:8080/"
        },
        "id": "2114084f",
        "outputId": "a595714e-4e2b-4c8e-9011-f5c452670a8f"
      },
      "outputs": [
        {
          "output_type": "execute_result",
          "data": {
            "text/plain": [
              "(2114, 2)"
            ]
          },
          "metadata": {},
          "execution_count": 106
        }
      ],
      "source": [
        "df.shape"
      ]
    },
    {
      "cell_type": "code",
      "execution_count": 107,
      "id": "d57a695c",
      "metadata": {
        "colab": {
          "base_uri": "https://localhost:8080/"
        },
        "id": "d57a695c",
        "outputId": "d92d9109-5999-42c6-e1f8-f7779adfad5a"
      },
      "outputs": [
        {
          "output_type": "execute_result",
          "data": {
            "text/plain": [
              "100.0"
            ]
          },
          "metadata": {},
          "execution_count": 107
        }
      ],
      "source": [
        "total = df['TitleandDesc'].notnull().sum()\n",
        "round((total/len(df)*100),1)"
      ]
    },
    {
      "cell_type": "code",
      "execution_count": 108,
      "id": "0f99a7ad",
      "metadata": {
        "id": "0f99a7ad"
      },
      "outputs": [],
      "source": [
        "# df.head(15)"
      ]
    },
    {
      "cell_type": "code",
      "execution_count": 109,
      "id": "fb7ef4da",
      "metadata": {
        "colab": {
          "base_uri": "https://localhost:8080/"
        },
        "id": "fb7ef4da",
        "outputId": "44709f17-3f66-48a8-f409-3ee7c8366534"
      },
      "outputs": [
        {
          "output_type": "execute_result",
          "data": {
            "text/plain": [
              "array([['Jobs – Retail'],\n",
              "       ['Jobs – IT'],\n",
              "       ['Rent – Apartment'],\n",
              "       ['Sell – House'],\n",
              "       ['Banking']], dtype=object)"
            ]
          },
          "metadata": {},
          "execution_count": 109
        }
      ],
      "source": [
        "pd.DataFrame(df.JobType.unique()).values"
      ]
    },
    {
      "cell_type": "code",
      "execution_count": 110,
      "id": "6b54a177",
      "metadata": {
        "colab": {
          "base_uri": "https://localhost:8080/",
          "height": 424
        },
        "id": "6b54a177",
        "outputId": "56d1f94c-7bc6-41ae-ceea-3197e5a928c0"
      },
      "outputs": [
        {
          "output_type": "execute_result",
          "data": {
            "text/plain": [
              "                                           TitleandDesc        JobType  Job_Id\n",
              "0     Commercial Painters needed ASAP at our Dallas/...  Jobs – Retail       0\n",
              "1     Nightclub Jobs -Model/Servers- Cash Daily,Look...  Jobs – Retail       0\n",
              "2     Nightclub Jobs -Model Servers- Cash Daily,* Mo...  Jobs – Retail       0\n",
              "3     PRINTING - 1st shift,CDL Class A full time loc...      Jobs – IT       1\n",
              "4     Admin Assistant,Necesito personal de limpieza ...      Jobs – IT       1\n",
              "...                                                 ...            ...     ...\n",
              "2109  Calling all well connected engineers, develope...      Jobs – IT       1\n",
              "2110  Software Engineer - Remote OptionalSignup on H...      Jobs – IT       1\n",
              "2111  Senior Software Engineer for Part-time Technic...      Jobs – IT       1\n",
              "2112  Google AppSheet Developer | $47.00 - $54.00 pe...      Jobs – IT       1\n",
              "2113  Graphic Designer Production mgr.Sign Design is...      Jobs – IT       1\n",
              "\n",
              "[2114 rows x 3 columns]"
            ],
            "text/html": [
              "\n",
              "  <div id=\"df-664e058e-3c5e-4981-9b50-8c8c9568ddca\">\n",
              "    <div class=\"colab-df-container\">\n",
              "      <div>\n",
              "<style scoped>\n",
              "    .dataframe tbody tr th:only-of-type {\n",
              "        vertical-align: middle;\n",
              "    }\n",
              "\n",
              "    .dataframe tbody tr th {\n",
              "        vertical-align: top;\n",
              "    }\n",
              "\n",
              "    .dataframe thead th {\n",
              "        text-align: right;\n",
              "    }\n",
              "</style>\n",
              "<table border=\"1\" class=\"dataframe\">\n",
              "  <thead>\n",
              "    <tr style=\"text-align: right;\">\n",
              "      <th></th>\n",
              "      <th>TitleandDesc</th>\n",
              "      <th>JobType</th>\n",
              "      <th>Job_Id</th>\n",
              "    </tr>\n",
              "  </thead>\n",
              "  <tbody>\n",
              "    <tr>\n",
              "      <th>0</th>\n",
              "      <td>Commercial Painters needed ASAP at our Dallas/...</td>\n",
              "      <td>Jobs – Retail</td>\n",
              "      <td>0</td>\n",
              "    </tr>\n",
              "    <tr>\n",
              "      <th>1</th>\n",
              "      <td>Nightclub Jobs -Model/Servers- Cash Daily,Look...</td>\n",
              "      <td>Jobs – Retail</td>\n",
              "      <td>0</td>\n",
              "    </tr>\n",
              "    <tr>\n",
              "      <th>2</th>\n",
              "      <td>Nightclub Jobs -Model Servers- Cash Daily,* Mo...</td>\n",
              "      <td>Jobs – Retail</td>\n",
              "      <td>0</td>\n",
              "    </tr>\n",
              "    <tr>\n",
              "      <th>3</th>\n",
              "      <td>PRINTING - 1st shift,CDL Class A full time loc...</td>\n",
              "      <td>Jobs – IT</td>\n",
              "      <td>1</td>\n",
              "    </tr>\n",
              "    <tr>\n",
              "      <th>4</th>\n",
              "      <td>Admin Assistant,Necesito personal de limpieza ...</td>\n",
              "      <td>Jobs – IT</td>\n",
              "      <td>1</td>\n",
              "    </tr>\n",
              "    <tr>\n",
              "      <th>...</th>\n",
              "      <td>...</td>\n",
              "      <td>...</td>\n",
              "      <td>...</td>\n",
              "    </tr>\n",
              "    <tr>\n",
              "      <th>2109</th>\n",
              "      <td>Calling all well connected engineers, develope...</td>\n",
              "      <td>Jobs – IT</td>\n",
              "      <td>1</td>\n",
              "    </tr>\n",
              "    <tr>\n",
              "      <th>2110</th>\n",
              "      <td>Software Engineer - Remote OptionalSignup on H...</td>\n",
              "      <td>Jobs – IT</td>\n",
              "      <td>1</td>\n",
              "    </tr>\n",
              "    <tr>\n",
              "      <th>2111</th>\n",
              "      <td>Senior Software Engineer for Part-time Technic...</td>\n",
              "      <td>Jobs – IT</td>\n",
              "      <td>1</td>\n",
              "    </tr>\n",
              "    <tr>\n",
              "      <th>2112</th>\n",
              "      <td>Google AppSheet Developer | $47.00 - $54.00 pe...</td>\n",
              "      <td>Jobs – IT</td>\n",
              "      <td>1</td>\n",
              "    </tr>\n",
              "    <tr>\n",
              "      <th>2113</th>\n",
              "      <td>Graphic Designer Production mgr.Sign Design is...</td>\n",
              "      <td>Jobs – IT</td>\n",
              "      <td>1</td>\n",
              "    </tr>\n",
              "  </tbody>\n",
              "</table>\n",
              "<p>2114 rows × 3 columns</p>\n",
              "</div>\n",
              "      <button class=\"colab-df-convert\" onclick=\"convertToInteractive('df-664e058e-3c5e-4981-9b50-8c8c9568ddca')\"\n",
              "              title=\"Convert this dataframe to an interactive table.\"\n",
              "              style=\"display:none;\">\n",
              "        \n",
              "  <svg xmlns=\"http://www.w3.org/2000/svg\" height=\"24px\"viewBox=\"0 0 24 24\"\n",
              "       width=\"24px\">\n",
              "    <path d=\"M0 0h24v24H0V0z\" fill=\"none\"/>\n",
              "    <path d=\"M18.56 5.44l.94 2.06.94-2.06 2.06-.94-2.06-.94-.94-2.06-.94 2.06-2.06.94zm-11 1L8.5 8.5l.94-2.06 2.06-.94-2.06-.94L8.5 2.5l-.94 2.06-2.06.94zm10 10l.94 2.06.94-2.06 2.06-.94-2.06-.94-.94-2.06-.94 2.06-2.06.94z\"/><path d=\"M17.41 7.96l-1.37-1.37c-.4-.4-.92-.59-1.43-.59-.52 0-1.04.2-1.43.59L10.3 9.45l-7.72 7.72c-.78.78-.78 2.05 0 2.83L4 21.41c.39.39.9.59 1.41.59.51 0 1.02-.2 1.41-.59l7.78-7.78 2.81-2.81c.8-.78.8-2.07 0-2.86zM5.41 20L4 18.59l7.72-7.72 1.47 1.35L5.41 20z\"/>\n",
              "  </svg>\n",
              "      </button>\n",
              "      \n",
              "  <style>\n",
              "    .colab-df-container {\n",
              "      display:flex;\n",
              "      flex-wrap:wrap;\n",
              "      gap: 12px;\n",
              "    }\n",
              "\n",
              "    .colab-df-convert {\n",
              "      background-color: #E8F0FE;\n",
              "      border: none;\n",
              "      border-radius: 50%;\n",
              "      cursor: pointer;\n",
              "      display: none;\n",
              "      fill: #1967D2;\n",
              "      height: 32px;\n",
              "      padding: 0 0 0 0;\n",
              "      width: 32px;\n",
              "    }\n",
              "\n",
              "    .colab-df-convert:hover {\n",
              "      background-color: #E2EBFA;\n",
              "      box-shadow: 0px 1px 2px rgba(60, 64, 67, 0.3), 0px 1px 3px 1px rgba(60, 64, 67, 0.15);\n",
              "      fill: #174EA6;\n",
              "    }\n",
              "\n",
              "    [theme=dark] .colab-df-convert {\n",
              "      background-color: #3B4455;\n",
              "      fill: #D2E3FC;\n",
              "    }\n",
              "\n",
              "    [theme=dark] .colab-df-convert:hover {\n",
              "      background-color: #434B5C;\n",
              "      box-shadow: 0px 1px 3px 1px rgba(0, 0, 0, 0.15);\n",
              "      filter: drop-shadow(0px 1px 2px rgba(0, 0, 0, 0.3));\n",
              "      fill: #FFFFFF;\n",
              "    }\n",
              "  </style>\n",
              "\n",
              "      <script>\n",
              "        const buttonEl =\n",
              "          document.querySelector('#df-664e058e-3c5e-4981-9b50-8c8c9568ddca button.colab-df-convert');\n",
              "        buttonEl.style.display =\n",
              "          google.colab.kernel.accessAllowed ? 'block' : 'none';\n",
              "\n",
              "        async function convertToInteractive(key) {\n",
              "          const element = document.querySelector('#df-664e058e-3c5e-4981-9b50-8c8c9568ddca');\n",
              "          const dataTable =\n",
              "            await google.colab.kernel.invokeFunction('convertToInteractive',\n",
              "                                                     [key], {});\n",
              "          if (!dataTable) return;\n",
              "\n",
              "          const docLinkHtml = 'Like what you see? Visit the ' +\n",
              "            '<a target=\"_blank\" href=https://colab.research.google.com/notebooks/data_table.ipynb>data table notebook</a>'\n",
              "            + ' to learn more about interactive tables.';\n",
              "          element.innerHTML = '';\n",
              "          dataTable['output_type'] = 'display_data';\n",
              "          await google.colab.output.renderOutput(dataTable, element);\n",
              "          const docLink = document.createElement('div');\n",
              "          docLink.innerHTML = docLinkHtml;\n",
              "          element.appendChild(docLink);\n",
              "        }\n",
              "      </script>\n",
              "    </div>\n",
              "  </div>\n",
              "  "
            ]
          },
          "metadata": {},
          "execution_count": 110
        }
      ],
      "source": [
        "df['Job_Id'] = df['JobType'].factorize()[0]\n",
        "job_id_df = df[['JobType', 'Job_Id']].drop_duplicates()\n",
        "\n",
        "\n",
        "# Dictionaries for future use\n",
        "job_to_id = dict(job_id_df.values)\n",
        "id_to_job = dict(job_id_df[['Job_Id', 'JobType']].values)\n",
        "\n",
        "# New dataframe\n",
        "df"
      ]
    },
    {
      "cell_type": "markdown",
      "id": "8170d069",
      "metadata": {
        "id": "8170d069"
      },
      "source": [
        "Check\n",
        "> Here, we check the position of the cells in the datasets, where the cell is empty."
      ]
    },
    {
      "cell_type": "code",
      "execution_count": 111,
      "id": "3e9e8282",
      "metadata": {
        "colab": {
          "base_uri": "https://localhost:8080/"
        },
        "id": "3e9e8282",
        "outputId": "8db173b8-a277-4537-9d54-d6536e59063d"
      },
      "outputs": [
        {
          "output_type": "execute_result",
          "data": {
            "text/plain": [
              "(array([], dtype=int64), array([], dtype=int64))"
            ]
          },
          "metadata": {},
          "execution_count": 111
        }
      ],
      "source": [
        "np.where(pd.isnull(df))"
      ]
    },
    {
      "cell_type": "code",
      "execution_count": 112,
      "id": "2b905fb9",
      "metadata": {
        "colab": {
          "base_uri": "https://localhost:8080/"
        },
        "id": "2b905fb9",
        "outputId": "9642637e-5968-4c28-dbc0-d996c369cb88"
      },
      "outputs": [
        {
          "output_type": "execute_result",
          "data": {
            "text/plain": [
              "TitleandDesc    0\n",
              "JobType         0\n",
              "Job_Id          0\n",
              "dtype: int64"
            ]
          },
          "metadata": {},
          "execution_count": 112
        }
      ],
      "source": [
        "df.isnull().sum()"
      ]
    },
    {
      "cell_type": "markdown",
      "source": [
        "## Graph Plot"
      ],
      "metadata": {
        "id": "7LpE-wblZMvw"
      },
      "id": "7LpE-wblZMvw"
    },
    {
      "cell_type": "code",
      "execution_count": 113,
      "id": "114b4bea",
      "metadata": {
        "colab": {
          "base_uri": "https://localhost:8080/",
          "height": 419
        },
        "id": "114b4bea",
        "outputId": "34265d3f-7531-4c30-fea3-a2817135df59"
      },
      "outputs": [
        {
          "output_type": "display_data",
          "data": {
            "text/plain": [
              "<Figure size 576x432 with 1 Axes>"
            ],
            "image/png": "[encoded data removed]"
          },
          "metadata": {
            "needs_background": "light"
          }
        }
      ],
      "source": [
        "fig = plt.figure(figsize=(8,6))\n",
        "colors = ['red', 'orange', 'blue', 'green', 'crimson']\n",
        "df.groupby('JobType').TitleandDesc.count().sort_values().plot.barh(\n",
        "    ylim=0, color=colors, title= 'No. of Jobs in Each JobType \\n')\n",
        "plt.xlabel('Number of ocurrences', fontsize = 10);"
      ]
    },
    {
      "cell_type": "markdown",
      "source": [
        "## Count\n",
        "> We count the total occurences of data in the datasets."
      ],
      "metadata": {
        "id": "vjnFs3R_ZR2W"
      },
      "id": "vjnFs3R_ZR2W"
    },
    {
      "cell_type": "code",
      "execution_count": 114,
      "id": "397b7e39",
      "metadata": {
        "colab": {
          "base_uri": "https://localhost:8080/"
        },
        "id": "397b7e39",
        "outputId": "c91ce586-8b7e-429b-d8af-ece318e17067"
      },
      "outputs": [
        {
          "output_type": "execute_result",
          "data": {
            "text/plain": [
              "Counter({'Jobs – Retail': 729,\n",
              "         'Jobs – IT': 260,\n",
              "         'Rent – Apartment': 327,\n",
              "         'Sell – House': 607,\n",
              "         'Banking': 191})"
            ]
          },
          "metadata": {},
          "execution_count": 114
        }
      ],
      "source": [
        "from collections import Counter\n",
        "Counter(df[\"JobType\"])"
      ]
    },
    {
      "cell_type": "markdown",
      "source": [
        "## Performing TFIDF "
      ],
      "metadata": {
        "id": "HXq01q0rZk8X"
      },
      "id": "HXq01q0rZk8X"
    },
    {
      "cell_type": "code",
      "execution_count": 115,
      "id": "4902b45f",
      "metadata": {
        "colab": {
          "base_uri": "https://localhost:8080/"
        },
        "id": "4902b45f",
        "outputId": "828473ca-fa21-497a-848e-214e511b365b"
      },
      "outputs": [
        {
          "output_type": "stream",
          "name": "stdout",
          "text": [
            "Each of the 2114 complaints is represented by 23401 features (TF-IDF score of unigrams and bigrams)\n"
          ]
        }
      ],
      "source": [
        "tfidf = TfidfVectorizer(sublinear_tf=True, min_df=5,\n",
        "                        ngram_range=(1, 3), \n",
        "                        stop_words='english')\n",
        "\n",
        "# We transform each complaint into a vector\n",
        "features = tfidf.fit_transform(df.TitleandDesc).toarray()\n",
        "\n",
        "labels = df.Job_Id\n",
        "\n",
        "print(\"Each of the %d complaints is represented by %d features (TF-IDF score of unigrams and bigrams)\" %(features.shape))"
      ]
    },
    {
      "cell_type": "code",
      "execution_count": 116,
      "id": "4bd3da94",
      "metadata": {
        "id": "4bd3da94"
      },
      "outputs": [],
      "source": [
        "# features"
      ]
    },
    {
      "cell_type": "code",
      "execution_count": 117,
      "id": "cf26b836",
      "metadata": {
        "id": "cf26b836"
      },
      "outputs": [],
      "source": [
        "# labels"
      ]
    },
    {
      "cell_type": "markdown",
      "id": "8bd71c21",
      "metadata": {
        "id": "8bd71c21"
      },
      "source": [
        "## Generating Unigrams and Bigrams"
      ]
    },
    {
      "cell_type": "code",
      "execution_count": 118,
      "id": "497b233a",
      "metadata": {
        "colab": {
          "base_uri": "https://localhost:8080/"
        },
        "id": "497b233a",
        "outputId": "18dfaf01-5146-4118-dd05-e48c3ad2c816"
      },
      "outputs": [
        {
          "output_type": "stream",
          "name": "stdout",
          "text": [
            "\n",
            "==> Banking:\n",
            "  * Most Correlated Unigrams are: accounts, quickbooks, bookkeeper, accountant, accounting\n",
            "  * Most Correlated Bigrams are: accounts receivable, bookkeeper job, assistant job, senior accountant, accountant job\n",
            "\n",
            "==> Jobs – IT:\n",
            "  * Most Correlated Unigrams are: developer, pathrise, engineering, engineer, software\n",
            "  * Most Correlated Bigrams are: jobs email, best matching, matching jobs, software engineering, software engineer\n",
            "\n",
            "==> Jobs – Retail:\n",
            "  * Most Correlated Unigrams are: pay, truck, cdl, driver, drivers\n",
            "  * Most Correlated Bigrams are: home time, owner operators, class cdl, direct deposit, sign bonus\n",
            "\n",
            "==> Rent – Apartment:\n",
            "  * Most Correlated Unigrams are: utilities, furnished, originator, roommates, rent\n",
            "  * Most Correlated Bigrams are: 2022this posting, room available, room room, roommates available, room roommates\n",
            "\n",
            "==> Sell – House:\n",
            "  * Most Correlated Unigrams are: bedroom, living, large, bedrooms, ny\n",
            "  * Most Correlated Bigrams are: bedroom bathroom, brooklyn ny, hardwood floors, dining room, living room\n"
          ]
        }
      ],
      "source": [
        "N = 5\n",
        "for JobType, Job_Id in sorted(job_to_id.items()):\n",
        "    features_chi2 = chi2(features, labels == Job_Id)\n",
        "    indices = np.argsort(features_chi2[0])\n",
        "    \n",
        "    feature_names = np.array(tfidf.get_feature_names())[indices]\n",
        "    \n",
        "    unigrams = [v for v in feature_names if len(v.split(' ')) == 1]\n",
        "    bigrams = [v for v in feature_names if len(v.split(' ')) == 2]\n",
        "    trigrams = [v for v in feature_names if len(v.split(' ')) == 3]\n",
        "\n",
        "    print(\"\\n==> %s:\" %(JobType))\n",
        "    \n",
        "    print(\"  * Most Correlated Unigrams are: %s\" %(', '.join(unigrams[-N:])))\n",
        "    print(\"  * Most Correlated Bigrams are: %s\" %(', '.join(bigrams[-N:])))\n",
        "#     print(\"  * Most Correlated Trigrams are: %s\" %(', '.join(trigrams[-N:])))"
      ]
    },
    {
      "cell_type": "code",
      "execution_count": 119,
      "id": "77149f99",
      "metadata": {
        "id": "77149f99"
      },
      "outputs": [],
      "source": [
        "X = np.array(df[\"TitleandDesc\"])"
      ]
    },
    {
      "cell_type": "code",
      "execution_count": 120,
      "id": "5e08384e",
      "metadata": {
        "id": "5e08384e"
      },
      "outputs": [],
      "source": [
        "y = np.array(df[\"JobType\"])"
      ]
    },
    {
      "cell_type": "code",
      "execution_count": 121,
      "id": "b9a23390",
      "metadata": {
        "colab": {
          "base_uri": "https://localhost:8080/"
        },
        "id": "b9a23390",
        "outputId": "60345854-6c71-4f63-b812-4abedf234461"
      },
      "outputs": [
        {
          "output_type": "execute_result",
          "data": {
            "text/plain": [
              "array([['Jobs – Retail'],\n",
              "       ['Jobs – IT'],\n",
              "       ['Rent – Apartment'],\n",
              "       ['Sell – House'],\n",
              "       ['Banking']], dtype=object)"
            ]
          },
          "metadata": {},
          "execution_count": 121
        }
      ],
      "source": [
        "pd.DataFrame(df.JobType.unique()).values"
      ]
    },
    {
      "cell_type": "markdown",
      "id": "7f9c64f9",
      "metadata": {
        "id": "7f9c64f9"
      },
      "source": [
        "## Train Test Split"
      ]
    },
    {
      "cell_type": "code",
      "execution_count": 122,
      "id": "ccc1be1c",
      "metadata": {
        "id": "ccc1be1c"
      },
      "outputs": [],
      "source": [
        "X_train, X_test, y_train, y_test = train_test_split(X, y, test_size=0.2, random_state=45)"
      ]
    },
    {
      "cell_type": "markdown",
      "id": "4a51f009",
      "metadata": {
        "id": "4a51f009"
      },
      "source": [
        "## OneVsRest Classifier\n",
        "> One-vs-rest (OvR for short, also referred to as One-vs-All or OvA) is a heuristic method for using binary classification algorithms for multi-class classification.\n",
        "\n",
        "> It involves splitting the multi-class dataset into multiple binary classification problems. A binary classifier is then trained on each binary classification problem and predictions are made using the model that is the most confident."
      ]
    },
    {
      "cell_type": "markdown",
      "source": [
        "## Pipelining"
      ],
      "metadata": {
        "id": "Af857RkMeK_W"
      },
      "id": "Af857RkMeK_W"
    },
    {
      "cell_type": "code",
      "execution_count": 123,
      "id": "d6d9a81a",
      "metadata": {
        "id": "d6d9a81a"
      },
      "outputs": [],
      "source": [
        "#pipeline of feature engineering and model\n",
        "model = Pipeline([('vectorizer', CountVectorizer()),\n",
        " ('tfidf', TfidfTransformer()),\n",
        " ('clf', OneVsRestClassifier(LinearSVC(class_weight='balanced')))])\n",
        "#the class_weight=\"balanced\" option tries to remove the biasedness of model towards majority sample\n"
      ]
    },
    {
      "cell_type": "markdown",
      "source": [
        "## Fitting the model"
      ],
      "metadata": {
        "id": "3_4p5mNCeMuA"
      },
      "id": "3_4p5mNCeMuA"
    },
    {
      "cell_type": "code",
      "execution_count": 124,
      "id": "e6ee7357",
      "metadata": {
        "scrolled": false,
        "colab": {
          "base_uri": "https://localhost:8080/"
        },
        "id": "e6ee7357",
        "outputId": "e0d11f15-a6f0-4242-929e-215844f96698"
      },
      "outputs": [
        {
          "output_type": "execute_result",
          "data": {
            "text/plain": [
              "Pipeline(steps=[('vectorizer', CountVectorizer()),\n",
              "                ('tfidf', TfidfTransformer()),\n",
              "                ('clf',\n",
              "                 OneVsRestClassifier(estimator=LinearSVC(class_weight='balanced')))])"
            ]
          },
          "metadata": {},
          "execution_count": 124
        }
      ],
      "source": [
        "#fit model with training data\n",
        "model.fit(X_train, y_train)\n"
      ]
    },
    {
      "cell_type": "markdown",
      "id": "80e76826",
      "metadata": {
        "id": "80e76826"
      },
      "source": [
        "## Confusion Matrix"
      ]
    },
    {
      "cell_type": "code",
      "execution_count": 125,
      "id": "609b763e",
      "metadata": {
        "scrolled": false,
        "colab": {
          "base_uri": "https://localhost:8080/",
          "height": 501
        },
        "id": "609b763e",
        "outputId": "974a3070-69f8-43df-ee04-6382aa1da130"
      },
      "outputs": [
        {
          "output_type": "display_data",
          "data": {
            "text/plain": [
              "<Figure size 432x432 with 2 Axes>"
            ],
            "image/png": "[encoded data removed]"
          },
          "metadata": {
            "needs_background": "light"
          }
        }
      ],
      "source": [
        "y_pred = model.predict(X_test)\n",
        "conf_mat = confusion_matrix(y_test, y_pred)\n",
        "fig, ax = plt.subplots(figsize=(6,6))\n",
        "sns.heatmap(conf_mat, annot=True, cmap=\"Blues\", fmt='d',\n",
        "            xticklabels=job_id_df.JobType.values, \n",
        "            yticklabels=job_id_df.JobType.values)\n",
        "plt.ylabel('Actual')\n",
        "plt.xlabel('Predicted')\n",
        "plt.title(\"CONFUSION MATRIX - LinearSVC\\n\", size=16);"
      ]
    },
    {
      "cell_type": "markdown",
      "source": [
        "## Classification report\n"
      ],
      "metadata": {
        "id": "d0kAjhhjeUD7"
      },
      "id": "d0kAjhhjeUD7"
    },
    {
      "cell_type": "code",
      "execution_count": 126,
      "id": "d33f2ecd",
      "metadata": {
        "colab": {
          "base_uri": "https://localhost:8080/"
        },
        "id": "d33f2ecd",
        "outputId": "71561576-305f-4180-e7dd-41f243744e0c"
      },
      "outputs": [
        {
          "output_type": "stream",
          "name": "stdout",
          "text": [
            "\t\t\tCLASSIFICATIION METRICS\n",
            "\n",
            "                  precision    recall  f1-score   support\n",
            "\n",
            "   Jobs – Retail       0.91      0.85      0.88        34\n",
            "       Jobs – IT       0.96      0.86      0.91        51\n",
            "Rent – Apartment       0.92      0.96      0.94       159\n",
            "    Sell – House       0.97      0.97      0.97        58\n",
            "         Banking       0.98      0.98      0.98       121\n",
            "\n",
            "        accuracy                           0.94       423\n",
            "       macro avg       0.94      0.92      0.93       423\n",
            "    weighted avg       0.94      0.94      0.94       423\n",
            "\n"
          ]
        }
      ],
      "source": [
        "print('\\t\\t\\tCLASSIFICATIION METRICS\\n')\n",
        "print(classification_report(y_test, y_pred, \n",
        "                                    target_names= df['JobType'].unique()))"
      ]
    },
    {
      "cell_type": "markdown",
      "id": "6b2b2569",
      "metadata": {
        "id": "6b2b2569"
      },
      "source": [
        "## Save the model"
      ]
    },
    {
      "cell_type": "code",
      "execution_count": 127,
      "id": "830defc1",
      "metadata": {
        "id": "830defc1"
      },
      "outputs": [],
      "source": [
        "import pickle\n",
        "filename = 'model.md5'\n",
        "# pickle.dump(model, open(filename, 'wb'))"
      ]
    },
    {
      "cell_type": "markdown",
      "id": "239e012e",
      "metadata": {
        "id": "239e012e"
      },
      "source": [
        "## Load The Model"
      ]
    },
    {
      "cell_type": "code",
      "execution_count": 128,
      "id": "b814950c",
      "metadata": {
        "id": "b814950c"
      },
      "outputs": [],
      "source": [
        "loaded_model = pickle.load(open(filename, 'rb'))"
      ]
    },
    {
      "cell_type": "markdown",
      "id": "7b15289e",
      "metadata": {
        "id": "7b15289e"
      },
      "source": [
        "## Check Accuracy"
      ]
    },
    {
      "cell_type": "code",
      "execution_count": 129,
      "id": "64094d1a",
      "metadata": {
        "colab": {
          "base_uri": "https://localhost:8080/"
        },
        "id": "64094d1a",
        "outputId": "0a656ae3-52b5-4ff2-aeab-851d06d5f922"
      },
      "outputs": [
        {
          "output_type": "stream",
          "name": "stdout",
          "text": [
            "0.9432624113475178\n"
          ]
        }
      ],
      "source": [
        "result = loaded_model.score(X_test, y_test)\n",
        "print(result)"
      ]
    },
    {
      "cell_type": "code",
      "execution_count": 130,
      "id": "d807d096",
      "metadata": {
        "colab": {
          "base_uri": "https://localhost:8080/"
        },
        "id": "d807d096",
        "outputId": "20ee7a4b-7fec-4fc1-9947-a1f9ea60a35d"
      },
      "outputs": [
        {
          "output_type": "execute_result",
          "data": {
            "text/plain": [
              "array(['Banking', 'Jobs – IT', 'Jobs – Retail', 'Rent – Apartment',\n",
              "       'Sell – House'], dtype='<U16')"
            ]
          },
          "metadata": {},
          "execution_count": 130
        }
      ],
      "source": [
        "model.classes_"
      ]
    },
    {
      "cell_type": "markdown",
      "id": "7c4634c3",
      "metadata": {
        "id": "7c4634c3"
      },
      "source": [
        "## Sample Input and Testing The Model"
      ]
    },
    {
      "cell_type": "code",
      "execution_count": 131,
      "id": "5b6aed07",
      "metadata": {
        "colab": {
          "base_uri": "https://localhost:8080/",
          "height": 53
        },
        "id": "5b6aed07",
        "outputId": "d4d6885a-3a85-43c8-bca3-5b6d5d198719"
      },
      "outputs": [
        {
          "name": "stdout",
          "output_type": "stream",
          "text": [
            "hi\n"
          ]
        },
        {
          "output_type": "execute_result",
          "data": {
            "text/plain": [
              "'Sell – House'"
            ],
            "application/vnd.google.colaboratory.intrinsic+json": {
              "type": "string"
            }
          },
          "metadata": {},
          "execution_count": 131
        }
      ],
      "source": [
        "job = input()\n",
        "model.predict([job])[0]"
      ]
    },
    {
      "cell_type": "markdown",
      "source": [
        "## Analysis\n",
        "> This shows that when we test the data, it gives the desired result.\n",
        "\n",
        "> Hence, we can say that this model performs well in this set of examples."
      ],
      "metadata": {
        "id": "jayHK1UDe8E2"
      },
      "id": "jayHK1UDe8E2"
    },
    {
      "cell_type": "markdown",
      "source": [
        "# Conclusion\n",
        "> We can say that, OneVsRest Classifier is best in cases of MultiClass Classification. In this way, we can use TF-IDF in the field of Information Retrieving as we did in this tutorials."
      ],
      "metadata": {
        "id": "5mLZY4PkfV2n"
      },
      "id": "5mLZY4PkfV2n"
    },
    {
      "cell_type": "code",
      "source": [
        ""
      ],
      "metadata": {
        "id": "uLYG9u4sfWr1"
      },
      "id": "uLYG9u4sfWr1",
      "execution_count": 131,
      "outputs": []
    }
  ],
  "metadata": {
    "kernelspec": {
      "display_name": "Python 3 (ipykernel)",
      "language": "python",
      "name": "python3"
    },
    "language_info": {
      "codemirror_mode": {
        "name": "ipython",
        "version": 3
      },
      "file_extension": ".py",
      "mimetype": "text/x-python",
      "name": "python",
      "nbconvert_exporter": "python",
      "pygments_lexer": "ipython3",
      "version": "3.10.5"
    },
    "vscode": {
      "interpreter": {
        "hash": "d9ca97d5aeda0a78b6c95d144b36bae7c2e0ce535ab6d52fecfe43011b8ebe93"
      }
    },
    "colab": {
      "name": "JobModelFinal.ipynb",
      "provenance": [],
      "toc_visible": true
    }
  },
  "nbformat": 4,
  "nbformat_minor": 5
}